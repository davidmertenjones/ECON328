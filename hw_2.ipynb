{
  "nbformat": 4,
  "nbformat_minor": 0,
  "metadata": {
    "colab": {
      "name": "hw_2.ipynb",
      "version": "0.3.2",
      "provenance": [],
      "collapsed_sections": [],
      "include_colab_link": true
    },
    "kernelspec": {
      "display_name": "Python 3",
      "language": "python",
      "name": "python3"
    }
  },
  "cells": [
    {
      "cell_type": "markdown",
      "metadata": {
        "id": "view-in-github",
        "colab_type": "text"
      },
      "source": [
        "<a href=\"https://colab.research.google.com/github/davidmertenjones/ECON328/blob/master/hw_2.ipynb\" target=\"_parent\"><img src=\"https://colab.research.google.com/assets/colab-badge.svg\" alt=\"Open In Colab\"/></a>"
      ]
    },
    {
      "metadata": {
        "id": "Vv-aOXa7r7Wk",
        "colab_type": "text"
      },
      "cell_type": "markdown",
      "source": [
        "## Problem 1:\n",
        "Create a variable that adds three numbers together and raises the sum to the power of 7. Print out the variable to view the results"
      ]
    },
    {
      "metadata": {
        "id": "aACA07zdsTNa",
        "colab_type": "code",
        "outputId": "dceef375-6432-494a-9086-8fd135130cd7",
        "colab": {
          "base_uri": "https://localhost:8080/",
          "height": 34
        }
      },
      "cell_type": "code",
      "source": [
        "n = (2 + 4 + 6) ** 7\n",
        "print(n)"
      ],
      "execution_count": 0,
      "outputs": [
        {
          "output_type": "stream",
          "text": [
            "35831808\n"
          ],
          "name": "stdout"
        }
      ]
    },
    {
      "metadata": {
        "id": "0yVgGa8ir7Wm",
        "colab_type": "code",
        "colab": {}
      },
      "cell_type": "code",
      "source": [
        "def threenumsumtoseventh(x, y, z):\n",
        "  return (x + y + z) ** 7"
      ],
      "execution_count": 0,
      "outputs": []
    },
    {
      "metadata": {
        "id": "YyetDeMzsIl5",
        "colab_type": "code",
        "outputId": "c427559e-c56a-498d-ae4e-15a51bf77d2d",
        "colab": {
          "base_uri": "https://localhost:8080/",
          "height": 34
        }
      },
      "cell_type": "code",
      "source": [
        "print(threenumsumtoseventh(2, 4, 6))"
      ],
      "execution_count": 0,
      "outputs": [
        {
          "output_type": "stream",
          "text": [
            "35831808\n"
          ],
          "name": "stdout"
        }
      ]
    },
    {
      "metadata": {
        "id": "24Lzmo4sr7Wp",
        "colab_type": "text"
      },
      "cell_type": "markdown",
      "source": [
        "## Problem 2:\n",
        "Create a list called my_list that contains the phrase 'the cat in the hat', where each word is a separate element of the list"
      ]
    },
    {
      "metadata": {
        "id": "d6z0QSm1r7Wq",
        "colab_type": "code",
        "outputId": "31babbbd-cde4-475f-c4fd-4ff0c43b13e1",
        "colab": {
          "base_uri": "https://localhost:8080/",
          "height": 51
        }
      },
      "cell_type": "code",
      "source": [
        "my_list = ['the', 'cat', 'in', 'the', 'hat']\n",
        "\n",
        "print(my_list)"
      ],
      "execution_count": 0,
      "outputs": [
        {
          "output_type": "stream",
          "text": [
            "['the', 'cat', 'in', 'the', 'hat']\n",
            "the cat in the hat\n"
          ],
          "name": "stdout"
        }
      ]
    },
    {
      "metadata": {
        "id": "16VoCIJer7Wt",
        "colab_type": "text"
      },
      "cell_type": "markdown",
      "source": [
        "## Problem 3:\n",
        "### 3.1\n",
        "Look up the command join: https://www.programiz.com/python-programming/methods/string/join \n",
        "\n",
        "Create a new variable called my_string that joins together the elements of my_list by ';;'\n"
      ]
    },
    {
      "metadata": {
        "id": "V8iXR_2vr7Wu",
        "colab_type": "code",
        "outputId": "cea941d2-96e2-4fd1-f32a-7015b6896e81",
        "colab": {
          "base_uri": "https://localhost:8080/",
          "height": 34
        }
      },
      "cell_type": "code",
      "source": [
        "my_string = ';;'.join(my_list)\n",
        "print(my_string)"
      ],
      "execution_count": 0,
      "outputs": [
        {
          "output_type": "stream",
          "text": [
            "the;;cat;;in;;the;;hat\n"
          ],
          "name": "stdout"
        }
      ]
    },
    {
      "metadata": {
        "id": "xrB679gZr7Wx",
        "colab_type": "text"
      },
      "cell_type": "markdown",
      "source": [
        "### 3.2\n",
        "Look up the command split: https://www.geeksforgeeks.org/python-string-split/\n",
        "\n",
        "Use the split command to turn my_string back into my_list"
      ]
    },
    {
      "metadata": {
        "id": "VR7wLGVYr7Wy",
        "colab_type": "code",
        "outputId": "7bd9ad90-e56f-48b5-8154-8bcb94fbc3fb",
        "colab": {
          "base_uri": "https://localhost:8080/",
          "height": 34
        }
      },
      "cell_type": "code",
      "source": [
        "my_string.split(';;')"
      ],
      "execution_count": 0,
      "outputs": [
        {
          "output_type": "execute_result",
          "data": {
            "text/plain": [
              "['the', 'cat', 'in', 'the', 'hat']"
            ]
          },
          "metadata": {
            "tags": []
          },
          "execution_count": 10
        }
      ]
    },
    {
      "metadata": {
        "id": "9xmIyYLxr7W0",
        "colab_type": "text"
      },
      "cell_type": "markdown",
      "source": [
        "### 3.3\n",
        "Look up the command replace: https://www.programiz.com/python-programming/methods/string/replace\n",
        "\n",
        "Use the replace command to replace any occurences of the word 'the' with 'awesome' store the results in a list called my_list2"
      ]
    },
    {
      "metadata": {
        "id": "_V6VZ2pKr7W1",
        "colab_type": "code",
        "outputId": "a56b3d01-5732-43a5-8d2c-ba3a704301ab",
        "colab": {
          "base_uri": "https://localhost:8080/",
          "height": 34
        }
      },
      "cell_type": "code",
      "source": [
        "my_list2 = [word.replace('the', 'awesome') for word in my_list]\n",
        "\n",
        "my_list2"
      ],
      "execution_count": 0,
      "outputs": [
        {
          "output_type": "execute_result",
          "data": {
            "text/plain": [
              "['awesome', 'cat', 'in', 'awesome', 'hat']"
            ]
          },
          "metadata": {
            "tags": []
          },
          "execution_count": 16
        }
      ]
    },
    {
      "metadata": {
        "id": "D_-4ptobr7W3",
        "colab_type": "text"
      },
      "cell_type": "markdown",
      "source": [
        "## Problem 4:\n",
        "### 4.1 \n",
        "Repeat all of the elements of my_list2 5 times and store the results in a variable called my_list3"
      ]
    },
    {
      "metadata": {
        "id": "yfH6pR_Gr7W4",
        "colab_type": "code",
        "outputId": "22f1fc27-123c-4198-e570-0a5436bb8692",
        "colab": {
          "base_uri": "https://localhost:8080/",
          "height": 442
        }
      },
      "cell_type": "code",
      "source": [
        "my_list3 = my_list2 * 5\n",
        "\n",
        "my_list3"
      ],
      "execution_count": 0,
      "outputs": [
        {
          "output_type": "execute_result",
          "data": {
            "text/plain": [
              "['awesome',\n",
              " 'cat',\n",
              " 'in',\n",
              " 'awesome',\n",
              " 'hat',\n",
              " 'awesome',\n",
              " 'cat',\n",
              " 'in',\n",
              " 'awesome',\n",
              " 'hat',\n",
              " 'awesome',\n",
              " 'cat',\n",
              " 'in',\n",
              " 'awesome',\n",
              " 'hat',\n",
              " 'awesome',\n",
              " 'cat',\n",
              " 'in',\n",
              " 'awesome',\n",
              " 'hat',\n",
              " 'awesome',\n",
              " 'cat',\n",
              " 'in',\n",
              " 'awesome',\n",
              " 'hat']"
            ]
          },
          "metadata": {
            "tags": []
          },
          "execution_count": 17
        }
      ]
    },
    {
      "metadata": {
        "id": "hnnR_a7ir7W7",
        "colab_type": "text"
      },
      "cell_type": "markdown",
      "source": [
        "### 4.2 \n",
        "\n",
        "What is the length of my_list3?"
      ]
    },
    {
      "metadata": {
        "id": "TV5GzjWer7W7",
        "colab_type": "code",
        "outputId": "d6e39524-629e-40a4-d457-4a2082c60a80",
        "colab": {
          "base_uri": "https://localhost:8080/",
          "height": 34
        }
      },
      "cell_type": "code",
      "source": [
        "len(my_list3)"
      ],
      "execution_count": 0,
      "outputs": [
        {
          "output_type": "execute_result",
          "data": {
            "text/plain": [
              "25"
            ]
          },
          "metadata": {
            "tags": []
          },
          "execution_count": 18
        }
      ]
    },
    {
      "metadata": {
        "id": "rJIMxFZruC7_",
        "colab_type": "code",
        "colab": {}
      },
      "cell_type": "code",
      "source": [
        ""
      ],
      "execution_count": 0,
      "outputs": []
    }
  ]
}